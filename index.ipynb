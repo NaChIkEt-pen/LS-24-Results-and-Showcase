{
 "cells": [
  {
   "cell_type": "code",
   "execution_count": null,
   "metadata": {},
   "outputs": [],
   "source": [
    "import requests \n",
    "from bs4 import BeautifulSoup "
   ]
  },
  {
   "cell_type": "code",
   "execution_count": null,
   "metadata": {},
   "outputs": [],
   "source": [
    "finalSoup = BeautifulSoup(\"\", \"html5lib\")\n",
    "finalData = []\n",
    "for j in range(1,30):\n",
    "    for i in range(1,5):\n",
    "        URL = f\"https://results.eci.gov.in/PcResultGenJune2024/statewiseS{j:02}{i}.htm\"\n",
    "        r = requests.get(URL)\n",
    "        soup = BeautifulSoup(r.content, 'html5lib')\n",
    "        finalSoup.append(soup)\n",
    "    \n",
    "    rowData = []\n",
    "    for soup in finalSoup:\n",
    "        ###For checking if the url exits\n",
    "        \n",
    "        data = soup.find('body')\n",
    "        if type(data) == int:\n",
    "            continue\n",
    "        data = data.find('h1')\n",
    "        if data is None:\n",
    "            continue\n",
    "        if \"Not Found\" in data:\n",
    "            continue\n",
    "        \n",
    "        table = soup.findAll('tr') \n",
    "        \n",
    "    \n",
    "        ls = []\n",
    "        ls2 = []    \n",
    "        for row in table[2:]:\n",
    "            ls.append(row)\n",
    "            #print(f\"{row} herehere\")\n",
    "        for row in  ls:\n",
    "            tddata = row.findAll('td')\n",
    "            # print(tddata)\n",
    "            ls2.append(tddata)\n",
    "        rawData = [ls2[i] for i in range(0, len(ls2), 8 + 1)]\n",
    "        rawData = [x for x in rawData if x != []]\n",
    "        #0 1 2 4 15 17 28 29 \n",
    "        preFinalRowData = []\n",
    "        for i in range(len(rawData)):\n",
    "            preFinalRowData.append([rawData[i][0] , rawData[i][1], rawData[i][2], rawData[i][4], rawData[i][15], rawData[i][17], rawData[i][28], rawData[i][29]])\n",
    "        \n",
    "        for row in preFinalRowData:\n",
    "            temp = []\n",
    "            for data in row:\n",
    "                temp.append(data.text)\n",
    "            rowData.append(temp)\n",
    "    finalData.append(rowData)"
   ]
  },
  {
   "cell_type": "code",
   "execution_count": null,
   "metadata": {},
   "outputs": [],
   "source": [
    "# finalSoup = BeautifulSoup(\"\", \"html5lib\")\n",
    "# #for j in range(1, 30):\n",
    "# for j in range(1,29):\n",
    "#     URL = f\"https://results.eci.gov.in/PcResultGenJune2024/statewiseS{j:02}1.htm\"\n",
    "    \n",
    "#     r = requests.get(URL)\n",
    "#     soup = BeautifulSoup(r.content, 'html5lib')\n",
    "#     data = soup.find('body')\n",
    "#     if type(data) == int:\n",
    "#         continue\n",
    "#     data = data.find('h1')\n",
    "#     if data is None:\n",
    "#         continue\n",
    "#     if \"Not Found\" in data:\n",
    "#         print(j)"
   ]
  },
  {
   "cell_type": "markdown",
   "metadata": {},
   "source": [
    "## MYSQL Connection"
   ]
  },
  {
   "cell_type": "code",
   "execution_count": null,
   "metadata": {},
   "outputs": [],
   "source": [
    "import mysql.connector\n",
    "\n",
    "mydb = mysql.connector.connect(\n",
    "  host=\"localhost\",\n",
    "  user=\"root\",\n",
    "  password=\"nachiket\",\n",
    "  database=\"temp2\"\n",
    ")\n",
    "sql = \"\"\"INSERT INTO Mh (Constituency,`Const.No`, LeadingCandidate, LeadingParty, TrailingCandidate, TrailingParty, Margin, Status) VALUES (%s,%s,%s,%s,%s,%s,%s,%s)\"\"\"\n",
    "mycursor = mydb.cursor()\n",
    "\n",
    "for row in rowData:\n",
    "  mycursor.execute(sql, row)\n",
    "  mydb.commit()\n",
    "\n",
    "print(mycursor.rowcount, \"record inserted.\")\n",
    "\n",
    "mycursor.close()\n",
    "mydb.close()"
   ]
  }
 ],
 "metadata": {
  "kernelspec": {
   "display_name": "venv",
   "language": "python",
   "name": "python3"
  },
  "language_info": {
   "codemirror_mode": {
    "name": "ipython",
    "version": 3
   },
   "file_extension": ".py",
   "mimetype": "text/x-python",
   "name": "python",
   "nbconvert_exporter": "python",
   "pygments_lexer": "ipython3",
   "version": "3.12.3"
  }
 },
 "nbformat": 4,
 "nbformat_minor": 2
}
